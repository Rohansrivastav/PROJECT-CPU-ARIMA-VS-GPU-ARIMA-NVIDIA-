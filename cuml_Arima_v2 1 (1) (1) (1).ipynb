{
 "cells": [
  {
   "cell_type": "code",
   "execution_count": 13,
   "metadata": {},
   "outputs": [],
   "source": [
    "import cupy as cp\n",
    "import cudf as cudf\n",
    "import cuml\n",
    "import numpy as np\n",
    "\n",
    "from tqdm.notebook import tqdm\n",
    "\n",
    "from cuml.metrics import mean_squared_error\n",
    "from cuml.model_selection import train_test_split\n",
    "from cuml.tsa.arima import ARIMA"
   ]
  },
  {
   "cell_type": "code",
   "execution_count": 14,
   "metadata": {},
   "outputs": [
    {
     "data": {
      "text/html": [
       "<div>\n",
       "<style scoped>\n",
       "    .dataframe tbody tr th:only-of-type {\n",
       "        vertical-align: middle;\n",
       "    }\n",
       "\n",
       "    .dataframe tbody tr th {\n",
       "        vertical-align: top;\n",
       "    }\n",
       "\n",
       "    .dataframe thead th {\n",
       "        text-align: right;\n",
       "    }\n",
       "</style>\n",
       "<table border=\"1\" class=\"dataframe\">\n",
       "  <thead>\n",
       "    <tr style=\"text-align: right;\">\n",
       "      <th></th>\n",
       "      <th>Unnamed: 0</th>\n",
       "      <th>Unnamed: 0.1</th>\n",
       "      <th>GPI</th>\n",
       "      <th>NDC</th>\n",
       "      <th>dates</th>\n",
       "      <th>disc_unitsold</th>\n",
       "      <th>holiday</th>\n",
       "      <th>unitsold</th>\n",
       "    </tr>\n",
       "  </thead>\n",
       "  <tbody>\n",
       "    <tr>\n",
       "      <th>0</th>\n",
       "      <td>0</td>\n",
       "      <td>0</td>\n",
       "      <td>58300040107520</td>\n",
       "      <td>115681108</td>\n",
       "      <td>2014-01-01</td>\n",
       "      <td>0.0</td>\n",
       "      <td>1.0</td>\n",
       "      <td>0.0</td>\n",
       "    </tr>\n",
       "    <tr>\n",
       "      <th>1</th>\n",
       "      <td>1</td>\n",
       "      <td>1</td>\n",
       "      <td>58300040107520</td>\n",
       "      <td>115681108</td>\n",
       "      <td>2014-01-02</td>\n",
       "      <td>81.0</td>\n",
       "      <td>0.0</td>\n",
       "      <td>245.0</td>\n",
       "    </tr>\n",
       "    <tr>\n",
       "      <th>2</th>\n",
       "      <td>2</td>\n",
       "      <td>2</td>\n",
       "      <td>58300040107520</td>\n",
       "      <td>115681108</td>\n",
       "      <td>2014-01-03</td>\n",
       "      <td>22.0</td>\n",
       "      <td>0.0</td>\n",
       "      <td>120.0</td>\n",
       "    </tr>\n",
       "    <tr>\n",
       "      <th>3</th>\n",
       "      <td>3</td>\n",
       "      <td>3</td>\n",
       "      <td>58300040107520</td>\n",
       "      <td>115681108</td>\n",
       "      <td>2014-01-04</td>\n",
       "      <td>115.0</td>\n",
       "      <td>0.0</td>\n",
       "      <td>186.0</td>\n",
       "    </tr>\n",
       "    <tr>\n",
       "      <th>4</th>\n",
       "      <td>4</td>\n",
       "      <td>4</td>\n",
       "      <td>58300040107520</td>\n",
       "      <td>115681108</td>\n",
       "      <td>2014-01-05</td>\n",
       "      <td>80.0</td>\n",
       "      <td>0.0</td>\n",
       "      <td>151.0</td>\n",
       "    </tr>\n",
       "  </tbody>\n",
       "</table>\n",
       "</div>"
      ],
      "text/plain": [
       "   Unnamed: 0  Unnamed: 0.1             GPI        NDC       dates  \\\n",
       "0           0             0  58300040107520  115681108  2014-01-01   \n",
       "1           1             1  58300040107520  115681108  2014-01-02   \n",
       "2           2             2  58300040107520  115681108  2014-01-03   \n",
       "3           3             3  58300040107520  115681108  2014-01-04   \n",
       "4           4             4  58300040107520  115681108  2014-01-05   \n",
       "\n",
       "   disc_unitsold  holiday  unitsold  \n",
       "0            0.0      1.0       0.0  \n",
       "1           81.0      0.0     245.0  \n",
       "2           22.0      0.0     120.0  \n",
       "3          115.0      0.0     186.0  \n",
       "4           80.0      0.0     151.0  "
      ]
     },
     "execution_count": 14,
     "metadata": {},
     "output_type": "execute_result"
    }
   ],
   "source": [
    "data = cudf.read_csv(\"timeseries_updated_WG_data.csv\")\n",
    "data.head()"
   ]
  },
  {
   "cell_type": "code",
   "execution_count": null,
   "metadata": {},
   "outputs": [],
   "source": []
  },
  {
   "cell_type": "code",
   "execution_count": 15,
   "metadata": {},
   "outputs": [
    {
     "data": {
      "text/html": [
       "<div>\n",
       "<style scoped>\n",
       "    .dataframe tbody tr th:only-of-type {\n",
       "        vertical-align: middle;\n",
       "    }\n",
       "\n",
       "    .dataframe tbody tr th {\n",
       "        vertical-align: top;\n",
       "    }\n",
       "\n",
       "    .dataframe thead th {\n",
       "        text-align: right;\n",
       "    }\n",
       "</style>\n",
       "<table border=\"1\" class=\"dataframe\">\n",
       "  <thead>\n",
       "    <tr style=\"text-align: right;\">\n",
       "      <th></th>\n",
       "      <th>GPI</th>\n",
       "      <th>NDC</th>\n",
       "      <th>dates</th>\n",
       "      <th>disc_unitsold</th>\n",
       "      <th>holiday</th>\n",
       "      <th>unitsold</th>\n",
       "    </tr>\n",
       "  </thead>\n",
       "  <tbody>\n",
       "    <tr>\n",
       "      <th>0</th>\n",
       "      <td>58300040107520</td>\n",
       "      <td>115681108</td>\n",
       "      <td>2014-01-01</td>\n",
       "      <td>0.0</td>\n",
       "      <td>1.0</td>\n",
       "      <td>0.0</td>\n",
       "    </tr>\n",
       "    <tr>\n",
       "      <th>1</th>\n",
       "      <td>58300040107520</td>\n",
       "      <td>115681108</td>\n",
       "      <td>2014-01-02</td>\n",
       "      <td>81.0</td>\n",
       "      <td>0.0</td>\n",
       "      <td>245.0</td>\n",
       "    </tr>\n",
       "    <tr>\n",
       "      <th>2</th>\n",
       "      <td>58300040107520</td>\n",
       "      <td>115681108</td>\n",
       "      <td>2014-01-03</td>\n",
       "      <td>22.0</td>\n",
       "      <td>0.0</td>\n",
       "      <td>120.0</td>\n",
       "    </tr>\n",
       "    <tr>\n",
       "      <th>3</th>\n",
       "      <td>58300040107520</td>\n",
       "      <td>115681108</td>\n",
       "      <td>2014-01-04</td>\n",
       "      <td>115.0</td>\n",
       "      <td>0.0</td>\n",
       "      <td>186.0</td>\n",
       "    </tr>\n",
       "    <tr>\n",
       "      <th>4</th>\n",
       "      <td>58300040107520</td>\n",
       "      <td>115681108</td>\n",
       "      <td>2014-01-05</td>\n",
       "      <td>80.0</td>\n",
       "      <td>0.0</td>\n",
       "      <td>151.0</td>\n",
       "    </tr>\n",
       "  </tbody>\n",
       "</table>\n",
       "</div>"
      ],
      "text/plain": [
       "              GPI        NDC       dates  disc_unitsold  holiday  unitsold\n",
       "0  58300040107520  115681108  2014-01-01            0.0      1.0       0.0\n",
       "1  58300040107520  115681108  2014-01-02           81.0      0.0     245.0\n",
       "2  58300040107520  115681108  2014-01-03           22.0      0.0     120.0\n",
       "3  58300040107520  115681108  2014-01-04          115.0      0.0     186.0\n",
       "4  58300040107520  115681108  2014-01-05           80.0      0.0     151.0"
      ]
     },
     "execution_count": 15,
     "metadata": {},
     "output_type": "execute_result"
    }
   ],
   "source": [
    "data = data.drop(['Unnamed: 0', 'Unnamed: 0.1'],axis=1)\n",
    "data.head()"
   ]
  },
  {
   "cell_type": "code",
   "execution_count": 16,
   "metadata": {},
   "outputs": [
    {
     "data": {
      "text/html": [
       "<div>\n",
       "<style scoped>\n",
       "    .dataframe tbody tr th:only-of-type {\n",
       "        vertical-align: middle;\n",
       "    }\n",
       "\n",
       "    .dataframe tbody tr th {\n",
       "        vertical-align: top;\n",
       "    }\n",
       "\n",
       "    .dataframe thead th {\n",
       "        text-align: right;\n",
       "    }\n",
       "</style>\n",
       "<table border=\"1\" class=\"dataframe\">\n",
       "  <thead>\n",
       "    <tr style=\"text-align: right;\">\n",
       "      <th></th>\n",
       "      <th>Store_id</th>\n",
       "      <th>Product SKU</th>\n",
       "      <th>dates</th>\n",
       "      <th>disc_unitsold</th>\n",
       "      <th>holiday</th>\n",
       "      <th>unitsold</th>\n",
       "    </tr>\n",
       "  </thead>\n",
       "  <tbody>\n",
       "    <tr>\n",
       "      <th>0</th>\n",
       "      <td>58300040107520</td>\n",
       "      <td>115681108</td>\n",
       "      <td>2014-01-01</td>\n",
       "      <td>0.0</td>\n",
       "      <td>1.0</td>\n",
       "      <td>0.0</td>\n",
       "    </tr>\n",
       "    <tr>\n",
       "      <th>1</th>\n",
       "      <td>58300040107520</td>\n",
       "      <td>115681108</td>\n",
       "      <td>2014-01-02</td>\n",
       "      <td>81.0</td>\n",
       "      <td>0.0</td>\n",
       "      <td>245.0</td>\n",
       "    </tr>\n",
       "    <tr>\n",
       "      <th>2</th>\n",
       "      <td>58300040107520</td>\n",
       "      <td>115681108</td>\n",
       "      <td>2014-01-03</td>\n",
       "      <td>22.0</td>\n",
       "      <td>0.0</td>\n",
       "      <td>120.0</td>\n",
       "    </tr>\n",
       "    <tr>\n",
       "      <th>3</th>\n",
       "      <td>58300040107520</td>\n",
       "      <td>115681108</td>\n",
       "      <td>2014-01-04</td>\n",
       "      <td>115.0</td>\n",
       "      <td>0.0</td>\n",
       "      <td>186.0</td>\n",
       "    </tr>\n",
       "    <tr>\n",
       "      <th>4</th>\n",
       "      <td>58300040107520</td>\n",
       "      <td>115681108</td>\n",
       "      <td>2014-01-05</td>\n",
       "      <td>80.0</td>\n",
       "      <td>0.0</td>\n",
       "      <td>151.0</td>\n",
       "    </tr>\n",
       "  </tbody>\n",
       "</table>\n",
       "</div>"
      ],
      "text/plain": [
       "         Store_id  Product SKU       dates  disc_unitsold  holiday  unitsold\n",
       "0  58300040107520    115681108  2014-01-01            0.0      1.0       0.0\n",
       "1  58300040107520    115681108  2014-01-02           81.0      0.0     245.0\n",
       "2  58300040107520    115681108  2014-01-03           22.0      0.0     120.0\n",
       "3  58300040107520    115681108  2014-01-04          115.0      0.0     186.0\n",
       "4  58300040107520    115681108  2014-01-05           80.0      0.0     151.0"
      ]
     },
     "execution_count": 16,
     "metadata": {},
     "output_type": "execute_result"
    }
   ],
   "source": [
    "data=data.rename(columns={'GPI':'Store_id','NDC':'Product SKU'},inplace=False)\n",
    "data.head()"
   ]
  },
  {
   "cell_type": "code",
   "execution_count": null,
   "metadata": {},
   "outputs": [],
   "source": []
  },
  {
   "cell_type": "code",
   "execution_count": null,
   "metadata": {},
   "outputs": [],
   "source": []
  },
  {
   "cell_type": "code",
   "execution_count": null,
   "metadata": {},
   "outputs": [],
   "source": []
  },
  {
   "cell_type": "code",
   "execution_count": 17,
   "metadata": {},
   "outputs": [
    {
     "name": "stdout",
     "output_type": "stream",
     "text": [
      "Store_id                  int64\n",
      "Product SKU               int64\n",
      "dates            datetime64[ns]\n",
      "disc_unitsold           float64\n",
      "holiday                 float64\n",
      "unitsold                float64\n",
      "dtype: object\n"
     ]
    }
   ],
   "source": [
    "data['dates'] = cudf.to_datetime(data['dates'])\n",
    "print(data.dtypes)"
   ]
  },
  {
   "cell_type": "code",
   "execution_count": null,
   "metadata": {},
   "outputs": [],
   "source": []
  },
  {
   "cell_type": "code",
   "execution_count": 18,
   "metadata": {},
   "outputs": [
    {
     "name": "stdout",
     "output_type": "stream",
     "text": [
      "CPU times: user 21.2 ms, sys: 23.5 ms, total: 44.7 ms\n",
      "Wall time: 56.3 ms\n"
     ]
    }
   ],
   "source": [
    "%%time \n",
    "#feature engineering\n",
    "data['dates'] = cudf.to_datetime(data['dates'])\n",
    "data[\"day\"] = data[\"dates\"].dt.day\n",
    "data[\"weekday\"] = data[\"dates\"].dt.weekday\n",
    "data[\"month\"] = data[\"dates\"].dt.month\n",
    "data[\"year\"] = data[\"dates\"].dt.year\n",
    "data[\"quarter\"] = data[\"dates\"].dt.month -1 \n",
    "data[\"quarter\"] = data[\"quarter\"] // 3\n",
    "data[\"quarter\"] = data[\"quarter\"] + 1 \n",
    "data['Yearfull'] = data[\"dates\"].dt.year.astype(str)+ '-01-01'\n",
    "data['Week']= (((data['dates'] - data['Yearfull'].astype('datetime64[ns]')).dt.days)/7).astype('int16') +1\n",
    "data['Week']= data.Week.where(data['Week']!=53, 52)"
   ]
  },
  {
   "cell_type": "code",
   "execution_count": 19,
   "metadata": {},
   "outputs": [
    {
     "data": {
      "text/html": [
       "<div>\n",
       "<style scoped>\n",
       "    .dataframe tbody tr th:only-of-type {\n",
       "        vertical-align: middle;\n",
       "    }\n",
       "\n",
       "    .dataframe tbody tr th {\n",
       "        vertical-align: top;\n",
       "    }\n",
       "\n",
       "    .dataframe thead th {\n",
       "        text-align: right;\n",
       "    }\n",
       "</style>\n",
       "<table border=\"1\" class=\"dataframe\">\n",
       "  <thead>\n",
       "    <tr style=\"text-align: right;\">\n",
       "      <th></th>\n",
       "      <th>Store_id</th>\n",
       "      <th>Product SKU</th>\n",
       "      <th>dates</th>\n",
       "      <th>disc_unitsold</th>\n",
       "      <th>holiday</th>\n",
       "      <th>unitsold</th>\n",
       "      <th>day</th>\n",
       "      <th>weekday</th>\n",
       "      <th>month</th>\n",
       "      <th>year</th>\n",
       "      <th>quarter</th>\n",
       "      <th>Yearfull</th>\n",
       "      <th>Week</th>\n",
       "    </tr>\n",
       "  </thead>\n",
       "  <tbody>\n",
       "    <tr>\n",
       "      <th>0</th>\n",
       "      <td>58300040107520</td>\n",
       "      <td>115681108</td>\n",
       "      <td>2014-01-01</td>\n",
       "      <td>0.0</td>\n",
       "      <td>1.0</td>\n",
       "      <td>0.0</td>\n",
       "      <td>1</td>\n",
       "      <td>2</td>\n",
       "      <td>1</td>\n",
       "      <td>2014</td>\n",
       "      <td>1</td>\n",
       "      <td>2014-01-01</td>\n",
       "      <td>1</td>\n",
       "    </tr>\n",
       "    <tr>\n",
       "      <th>1</th>\n",
       "      <td>58300040107520</td>\n",
       "      <td>115681108</td>\n",
       "      <td>2014-01-02</td>\n",
       "      <td>81.0</td>\n",
       "      <td>0.0</td>\n",
       "      <td>245.0</td>\n",
       "      <td>2</td>\n",
       "      <td>3</td>\n",
       "      <td>1</td>\n",
       "      <td>2014</td>\n",
       "      <td>1</td>\n",
       "      <td>2014-01-01</td>\n",
       "      <td>1</td>\n",
       "    </tr>\n",
       "    <tr>\n",
       "      <th>2</th>\n",
       "      <td>58300040107520</td>\n",
       "      <td>115681108</td>\n",
       "      <td>2014-01-03</td>\n",
       "      <td>22.0</td>\n",
       "      <td>0.0</td>\n",
       "      <td>120.0</td>\n",
       "      <td>3</td>\n",
       "      <td>4</td>\n",
       "      <td>1</td>\n",
       "      <td>2014</td>\n",
       "      <td>1</td>\n",
       "      <td>2014-01-01</td>\n",
       "      <td>1</td>\n",
       "    </tr>\n",
       "    <tr>\n",
       "      <th>3</th>\n",
       "      <td>58300040107520</td>\n",
       "      <td>115681108</td>\n",
       "      <td>2014-01-04</td>\n",
       "      <td>115.0</td>\n",
       "      <td>0.0</td>\n",
       "      <td>186.0</td>\n",
       "      <td>4</td>\n",
       "      <td>5</td>\n",
       "      <td>1</td>\n",
       "      <td>2014</td>\n",
       "      <td>1</td>\n",
       "      <td>2014-01-01</td>\n",
       "      <td>1</td>\n",
       "    </tr>\n",
       "    <tr>\n",
       "      <th>4</th>\n",
       "      <td>58300040107520</td>\n",
       "      <td>115681108</td>\n",
       "      <td>2014-01-05</td>\n",
       "      <td>80.0</td>\n",
       "      <td>0.0</td>\n",
       "      <td>151.0</td>\n",
       "      <td>5</td>\n",
       "      <td>6</td>\n",
       "      <td>1</td>\n",
       "      <td>2014</td>\n",
       "      <td>1</td>\n",
       "      <td>2014-01-01</td>\n",
       "      <td>1</td>\n",
       "    </tr>\n",
       "  </tbody>\n",
       "</table>\n",
       "</div>"
      ],
      "text/plain": [
       "         Store_id  Product SKU      dates  disc_unitsold  holiday  unitsold  \\\n",
       "0  58300040107520    115681108 2014-01-01            0.0      1.0       0.0   \n",
       "1  58300040107520    115681108 2014-01-02           81.0      0.0     245.0   \n",
       "2  58300040107520    115681108 2014-01-03           22.0      0.0     120.0   \n",
       "3  58300040107520    115681108 2014-01-04          115.0      0.0     186.0   \n",
       "4  58300040107520    115681108 2014-01-05           80.0      0.0     151.0   \n",
       "\n",
       "   day  weekday  month  year  quarter    Yearfull  Week  \n",
       "0    1        2      1  2014        1  2014-01-01     1  \n",
       "1    2        3      1  2014        1  2014-01-01     1  \n",
       "2    3        4      1  2014        1  2014-01-01     1  \n",
       "3    4        5      1  2014        1  2014-01-01     1  \n",
       "4    5        6      1  2014        1  2014-01-01     1  "
      ]
     },
     "execution_count": 19,
     "metadata": {},
     "output_type": "execute_result"
    }
   ],
   "source": [
    "data.head()"
   ]
  },
  {
   "cell_type": "code",
   "execution_count": 20,
   "metadata": {},
   "outputs": [
    {
     "name": "stdout",
     "output_type": "stream",
     "text": [
      "Store_id                  int64\n",
      "Product SKU               int64\n",
      "dates            datetime64[ns]\n",
      "disc_unitsold           float64\n",
      "holiday                 float64\n",
      "unitsold                float64\n",
      "day                       int16\n",
      "weekday                   int16\n",
      "month                     int16\n",
      "year                      int16\n",
      "quarter                   int16\n",
      "Week                      int16\n",
      "dtype: object\n"
     ]
    }
   ],
   "source": [
    "data = data.drop('Yearfull', axis=1)\n",
    "print(data.dtypes)"
   ]
  },
  {
   "cell_type": "code",
   "execution_count": 26,
   "metadata": {},
   "outputs": [
    {
     "name": "stdout",
     "output_type": "stream",
     "text": [
      "12\n"
     ]
    }
   ],
   "source": [
    "gpi_un = data['Store_id'].nunique()\n",
    "print(gpi_un)"
   ]
  },
  {
   "cell_type": "code",
   "execution_count": 27,
   "metadata": {},
   "outputs": [
    {
     "name": "stdout",
     "output_type": "stream",
     "text": [
      "531\n"
     ]
    }
   ],
   "source": [
    "ndc_un = data['Product SKU'].nunique()\n",
    "print(ndc_un)"
   ]
  },
  {
   "cell_type": "code",
   "execution_count": 28,
   "metadata": {},
   "outputs": [
    {
     "data": {
      "text/plain": [
       "0         58300040107520\n",
       "1         58300040107520\n",
       "2         58300040107520\n",
       "3         58300040107520\n",
       "4         58300040107520\n",
       "               ...      \n",
       "959512    27250050000320\n",
       "959513    27250050000320\n",
       "959514    27250050000320\n",
       "959515    27250050000320\n",
       "959516    27250050000320\n",
       "Name: Store_id, Length: 959517, dtype: int64"
      ]
     },
     "execution_count": 28,
     "metadata": {},
     "output_type": "execute_result"
    }
   ],
   "source": [
    "data['Store_id']"
   ]
  },
  {
   "cell_type": "code",
   "execution_count": 32,
   "metadata": {},
   "outputs": [],
   "source": [
    "storeid = list(set(data['Store_id'].astype('int').to_arrow().to_pylist()))\n",
    "productsku = list(set(data['Product SKU'].astype('int').to_arrow().to_pylist()))"
   ]
  },
  {
   "cell_type": "code",
   "execution_count": 33,
   "metadata": {},
   "outputs": [
    {
     "data": {
      "text/plain": [
       "[58300040107520,\n",
       " 58160070100320,\n",
       " 58160020100320,\n",
       " 27250050000320,\n",
       " 27250050000350,\n",
       " 58180025106730,\n",
       " 58160034100330,\n",
       " 58160020100340,\n",
       " 27250050000340,\n",
       " 58160070100310,\n",
       " 58160020100310,\n",
       " 58180025106750]"
      ]
     },
     "execution_count": 33,
     "metadata": {},
     "output_type": "execute_result"
    }
   ],
   "source": [
    "storeid"
   ]
  },
  {
   "cell_type": "code",
   "execution_count": 25,
   "metadata": {},
   "outputs": [
    {
     "name": "stdout",
     "output_type": "stream",
     "text": [
      "CPU times: user 1.54 s, sys: 0 ns, total: 1.54 s\n",
      "Wall time: 1.53 s\n"
     ]
    }
   ],
   "source": [
    "%%time\n",
    "grouped = data.groupby(['Store_id', 'Product SKU'])\n",
    "\n",
    "name_list = [name for name, _ in grouped]\n",
    "df_list = [df[\"unitsold\"].rename(name).reset_index(drop=True) for name, df in grouped]\n",
    "\n",
    "# All series have the same length so we can conveniently pack them\n",
    "# Note: if not, we could pad with missing observations at the start\n",
    "packed_df = cudf.concat(df_list, axis=1)"
   ]
  },
  {
   "cell_type": "code",
   "execution_count": null,
   "metadata": {},
   "outputs": [],
   "source": []
  },
  {
   "cell_type": "code",
   "execution_count": null,
   "metadata": {},
   "outputs": [],
   "source": []
  },
  {
   "cell_type": "code",
   "execution_count": 12,
   "metadata": {},
   "outputs": [
    {
     "data": {
      "text/plain": [
       "MultiIndex([(27250050000320,    87606005),\n",
       "            (27250050000320,    93104801),\n",
       "            (27250050000320,    93104810),\n",
       "            (27250050000320,    93104898),\n",
       "            (27250050000320,   378718505),\n",
       "            (27250050000320,   904632661),\n",
       "            (27250050000320,   904668961),\n",
       "            (27250050000320, 23155010201),\n",
       "            (27250050000320, 23155010205),\n",
       "            (27250050000320, 23155010206),\n",
       "            ...\n",
       "            (58300040107520, 68180031902),\n",
       "            (58300040107520, 68180031906),\n",
       "            (58300040107520, 68180031909),\n",
       "            (58300040107520, 68382035316),\n",
       "            (58300040107520, 69097087502),\n",
       "            (58300040107520, 69097087505),\n",
       "            (58300040107520, 69097087512),\n",
       "            (58300040107520, 70436001002),\n",
       "            (58300040107520, 70436001004),\n",
       "            (58300040107520, 70436001006)],\n",
       "           length=531)"
      ]
     },
     "execution_count": 12,
     "metadata": {},
     "output_type": "execute_result"
    }
   ],
   "source": [
    "packed_df.columns\n"
   ]
  },
  {
   "cell_type": "code",
   "execution_count": 56,
   "metadata": {},
   "outputs": [],
   "source": [
    "def run_arima_parallel(df):\n",
    "    X = df.astype('float')\n",
    "    train, test = train_test_split(df, train_size=int(0.8*df.shape[0]), shuffle=False)\n",
    "    model = ARIMA(endog=train, order=(1,1,1), seasonal_order=(1,1,1,7), fit_intercept=False)\n",
    "    result = model.fit()\n",
    "    start = train.shape[0]\n",
    "    end = df.shape[0]\n",
    "    predictions = result.predict(start, end)\n",
    "    return [float(mean_squared_error(test[test.columns[i]], predictions[predictions.columns[i]])) for i in range(test.shape[1])]"
   ]
  },
  {
   "cell_type": "code",
   "execution_count": 57,
   "metadata": {},
   "outputs": [
    {
     "name": "stdout",
     "output_type": "stream",
     "text": [
      "[W] [14:49:18.521730] fit: Some batch members had optimizer problems\n",
      "(1445, 531) (362, 531) (27250050000320, 87606005)\n",
      "CPU times: user 16.1 s, sys: 6.65 s, total: 22.8 s\n",
      "Wall time: 23.2 s\n"
     ]
    }
   ],
   "source": [
    "%%time\n",
    "\n",
    "# Parallel implementation\n",
    "\n",
    "errors = run_arima_parallel(packed_df)\n"
   ]
  }
 ],
 "metadata": {
  "kernelspec": {
   "display_name": "Python 3",
   "language": "python",
   "name": "python3"
  },
  "language_info": {
   "codemirror_mode": {
    "name": "ipython",
    "version": 3
   },
   "file_extension": ".py",
   "mimetype": "text/x-python",
   "name": "python",
   "nbconvert_exporter": "python",
   "pygments_lexer": "ipython3",
   "version": "3.8.5"
  }
 },
 "nbformat": 4,
 "nbformat_minor": 5
}
